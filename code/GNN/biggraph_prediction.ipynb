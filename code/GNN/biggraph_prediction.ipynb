{
 "cells": [
  {
   "cell_type": "code",
   "execution_count": 110,
   "metadata": {},
   "outputs": [],
   "source": [
    "import json\n",
    "import os\n",
    "import h5py\n",
    "import torch\n",
    "from torchbiggraph.model import ComplexDiagonalDynamicOperator, DotComparator\n",
    "\n",
    "with open(\"./data/statml/entity_names_user_id_0.json\", \"rt\") as tf:\n",
    "    dictionary = json.load(tf)\n",
    "\n",
    "def perform_prediction(source_id, target_id):\n",
    "    \n",
    "    try:\n",
    "        offset_source = dictionary.index(source_id)\n",
    "        #print(\"our offset for source_id \" , source_id, \" is: \", offset_source)\n",
    "        offset_target = dictionary.index(target_id)\n",
    "        #print(\"our offset for target_id \" , target_id, \" is: \", offset_target)\n",
    "        \n",
    "        with h5py.File(\"./model/statml_ranking_50_epochs/embeddings_user_id_0.v52.h5\", \"r\") as hf:\n",
    "            embedding_source = hf[\"embeddings\"][offset_source, :]\n",
    "            embedding_target = hf[\"embeddings\"][offset_target, :]\n",
    "\n",
    "\n",
    "        comparator = DotComparator()\n",
    "        comparator = DotComparator()\n",
    "        score, _, _= comparator(\n",
    "            comparator.prepare(torch.tensor(embedding_source.reshape([1,1,1024]))),\n",
    "            comparator.prepare(torch.tensor(embedding_target.reshape([1,1,1024]))),\n",
    "            torch.empty(1,0,1024),\n",
    "            torch.empty(1,0,1024),\n",
    "        )\n",
    "\n",
    "\n",
    "        return score\n",
    "    except:\n",
    "        print(\"not in list\")\n",
    "        return 0\n",
    "        \n",
    "\n",
    "\n",
    "\n"
   ]
  },
  {
   "cell_type": "code",
   "execution_count": 111,
   "metadata": {},
   "outputs": [],
   "source": [
    "def get_test_samples():\n",
    "    with open('./data/test-public.csv') as test:\n",
    "        test_edges = []\n",
    "        for line in test:\n",
    "            edge_list = line.split()\n",
    "            try:\n",
    "                test_edges.append((int(edge_list[1]), int(edge_list[2])))\n",
    "            except:\n",
    "                pass\n",
    "        return test_edges\n",
    "        \n",
    "test_samples = get_test_samples()"
   ]
  },
  {
   "cell_type": "code",
   "execution_count": 112,
   "metadata": {},
   "outputs": [],
   "source": [
    "y_pred = []"
   ]
  },
  {
   "cell_type": "code",
   "execution_count": 113,
   "metadata": {},
   "outputs": [],
   "source": [
    "n = len(test_samples)\n",
    "i = 0\n",
    "for i in range(0, n):\n",
    "    sample = test_samples[i]\n",
    "    pred = perform_prediction(str(sample[0]), str(sample[1]))\n",
    "    pred = pred.item()\n",
    "    y_pred.append(pred)\n",
    "    #print(pred)\n",
    "    \n",
    "    i += 1"
   ]
  },
  {
   "cell_type": "code",
   "execution_count": 114,
   "metadata": {},
   "outputs": [],
   "source": [
    "import numpy as np"
   ]
  },
  {
   "cell_type": "code",
   "execution_count": 115,
   "metadata": {},
   "outputs": [],
   "source": [
    "def sigmoid(x):\n",
    "    \"\"\" Sigmoid activation function\n",
    "    :param x: scalar value\n",
    "    :return: sigmoid activation\n",
    "    \"\"\"\n",
    "    return 1 / (1 + np.exp(-x))"
   ]
  },
  {
   "cell_type": "code",
   "execution_count": 116,
   "metadata": {},
   "outputs": [],
   "source": [
    "proba = []"
   ]
  },
  {
   "cell_type": "code",
   "execution_count": 117,
   "metadata": {},
   "outputs": [],
   "source": [
    "for element in y_pred:\n",
    "    prob = sigmoid(element)\n",
    "    proba.append(prob)"
   ]
  },
  {
   "cell_type": "code",
   "execution_count": 118,
   "metadata": {},
   "outputs": [],
   "source": [
    "import csv\n",
    "with open(\"jupiter_logistic_biggraph.csv\",\"w\",newline=\"\") as csvfile:\n",
    "    writer=csv.writer(csvfile)\n",
    "    writer.writerow([\"Id\",\"Predictions\"])\n",
    "    test_id=1\n",
    "    for prediction in proba:\n",
    "        writer.writerow([test_id,prediction])\n",
    "        test_id+=1"
   ]
  }
 ],
 "metadata": {
  "environment": {
   "name": "tf-gpu.1-15.m55",
   "type": "gcloud",
   "uri": "gcr.io/deeplearning-platform-release/tf-gpu.1-15:m55"
  },
  "kernelspec": {
   "display_name": "Python 3",
   "language": "python",
   "name": "python3"
  },
  "language_info": {
   "codemirror_mode": {
    "name": "ipython",
    "version": 3
   },
   "file_extension": ".py",
   "mimetype": "text/x-python",
   "name": "python",
   "nbconvert_exporter": "python",
   "pygments_lexer": "ipython3",
   "version": "3.7.4"
  }
 },
 "nbformat": 4,
 "nbformat_minor": 4
}
