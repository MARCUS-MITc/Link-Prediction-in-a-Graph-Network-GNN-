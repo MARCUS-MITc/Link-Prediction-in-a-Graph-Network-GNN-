{
 "cells": [
  {
   "cell_type": "markdown",
   "metadata": {},
   "source": [
    "Importing the required libraries"
   ]
  },
  {
   "cell_type": "code",
   "execution_count": 1,
   "metadata": {},
   "outputs": [],
   "source": [
    "import pandas as pd\n",
    "import networkx as nx\n",
    "import random\n",
    "import csv"
   ]
  },
  {
   "cell_type": "markdown",
   "metadata": {},
   "source": [
    "Split original dataset into rows of source -> destination pairs"
   ]
  },
  {
   "cell_type": "code",
   "execution_count": null,
   "metadata": {},
   "outputs": [],
   "source": [
    "# seen = set()\n",
    "# with open('train.txt','r') as lines:\n",
    "#   i = 0\n",
    "#   for line in csv.reader(lines,delimiter='\\t'):\n",
    "#     i += 1\n",
    "#     og_num = line[0]\n",
    "#     line.remove(og_num)\n",
    "#     for i,number in enumerate(line,start=0):\n",
    "#       combination = tuple([og_num,number])\n",
    "#       seen.add(combination)\n",
    "# print(seen)\n",
    "# with open('individual_links.txt','w') as out:\n",
    "#   for number in seen:\n",
    "#     out.write(' '.join(str(s) for s in number) + '\\n')"
   ]
  },
  {
   "cell_type": "markdown",
   "metadata": {},
   "source": [
    "Generating NetworkX graph"
   ]
  },
  {
   "cell_type": "code",
   "execution_count": 2,
   "metadata": {},
   "outputs": [
    {
     "name": "stdout",
     "output_type": "stream",
     "text": [
      "23945602\n",
      "4867136\n"
     ]
    }
   ],
   "source": [
    "train_csv = pd.read_csv('../data/individual_links.txt', names=['source', 'destination'],sep='\\s+')\n",
    "g = nx.from_pandas_edgelist(train_csv, source='source',target='destination',create_using=nx.DiGraph()) \n",
    "num_edges = g.number_of_edges()\n",
    "num_nodes = g.number_of_nodes()\n",
    "print(num_edges)\n",
    "print(num_nodes)"
   ]
  },
  {
   "cell_type": "code",
   "execution_count": 7,
   "metadata": {},
   "outputs": [],
   "source": [
    "num_test_edges = 50000   # No of positive/negative samples required"
   ]
  },
  {
   "cell_type": "markdown",
   "metadata": {},
   "source": [
    "# Random Sampling"
   ]
  },
  {
   "cell_type": "markdown",
   "metadata": {},
   "source": [
    "Sampling Positive Edges"
   ]
  },
  {
   "cell_type": "code",
   "execution_count": null,
   "metadata": {},
   "outputs": [],
   "source": [
    "edges_pos = random.sample(g.edges(), num_test_edges)"
   ]
  },
  {
   "cell_type": "code",
   "execution_count": null,
   "metadata": {},
   "outputs": [],
   "source": [
    "with open(\"../data/edges_pos_random_100k.csv\",\"w\") as csvfile:\n",
    "    writer=csv.writer(csvfile)\n",
    "    writer.writerow([\"Source\", \"Target\", \"Label\"])\n",
    "    for edge in edges_pos:\n",
    "        writer.writerow([edge[0], edge[1],1])"
   ]
  },
  {
   "cell_type": "markdown",
   "metadata": {},
   "source": [
    "Sampling Negative Edges"
   ]
  },
  {
   "cell_type": "code",
   "execution_count": null,
   "metadata": {},
   "outputs": [],
   "source": [
    "i = 0\n",
    "edges_neg = []\n",
    "while i < num_test_edges:\n",
    "    edge = random.sample(g.nodes(), 2)\n",
    "    try:\n",
    "        edge_exists = g.has_edge(edge[0],edge[1])\n",
    "        if edge_exists == False:\n",
    "            print(str(i))\n",
    "            edges_neg.append([edge[0],edge[1]])\n",
    "            i = i+1\n",
    "    except Exception as e:\n",
    "        print(e)\n",
    "        pass"
   ]
  },
  {
   "cell_type": "code",
   "execution_count": null,
   "metadata": {},
   "outputs": [],
   "source": [
    "with open(\"../data/edges_neg_random_100k.csv\",\"w\",newline=\"\") as csvfile:\n",
    "    writer=csv.writer(csvfile)\n",
    "    writer.writerow([\"Source\",\"Target\", \"Label\"])\n",
    "    for edge in edges_neg:\n",
    "        writer.writerow([edge[0], edge[1], 0])"
   ]
  },
  {
   "cell_type": "markdown",
   "metadata": {},
   "source": [
    "# Strategic Sampling"
   ]
  },
  {
   "cell_type": "markdown",
   "metadata": {},
   "source": [
    "Sorting the nodes as a function of degree centrality"
   ]
  },
  {
   "cell_type": "code",
   "execution_count": 4,
   "metadata": {},
   "outputs": [],
   "source": [
    "node_degree_dict=nx.degree_centrality(g)\n",
    "sorted_node_degree_list = sorted(node_degree_dict.items(), key=lambda x: x[1], reverse=True)\n",
    "\n",
    "N = 1000000\n",
    "sample_sorted_node_degree_list = sorted_node_degree_list[0:N]"
   ]
  },
  {
   "cell_type": "markdown",
   "metadata": {},
   "source": [
    "Sampling Positive Edges"
   ]
  },
  {
   "cell_type": "code",
   "execution_count": 9,
   "metadata": {},
   "outputs": [],
   "source": [
    "i = 0\n",
    "edges_pos = []\n",
    "while i < num_test_edges:\n",
    "    node = random.sample(sample_sorted_node_degree_list, 1)\n",
    "    node = node[0][0]\n",
    "    try:\n",
    "        neighbors = list(g.neighbors(node))\n",
    "        random_neighbor = random.sample(neighbors,1)[0]\n",
    "        \n",
    "        edges_pos.append([node,random_neighbor])\n",
    "        i = i+1\n",
    "    except Exception as e:\n",
    "        pass"
   ]
  },
  {
   "cell_type": "code",
   "execution_count": 10,
   "metadata": {},
   "outputs": [],
   "source": [
    "with open(\"../data/edges_pos_strategic_sampling_100k.csv\",\"w\") as csvfile:\n",
    "    writer=csv.writer(csvfile)\n",
    "    writer.writerow([\"Source\", \"Target\", \"Label\"])\n",
    "    for edge in edges_pos:\n",
    "        writer.writerow([edge[0], edge[1],1])"
   ]
  },
  {
   "cell_type": "markdown",
   "metadata": {},
   "source": [
    "Sampling Negative Edges"
   ]
  },
  {
   "cell_type": "code",
   "execution_count": 11,
   "metadata": {},
   "outputs": [],
   "source": [
    "i = 0\n",
    "edges_neg = []\n",
    "while i < num_test_edges:\n",
    "    edge = random.sample(sample_sorted_node_degree_list, 2)\n",
    "    source = edge[0][0]\n",
    "    target = edge[1][0]\n",
    "\n",
    "    try:\n",
    "        edge_exists = g.has_edge(source,target)\n",
    "        if edge_exists == False:\n",
    "            edges_neg.append([source, target])\n",
    "            i = i+1\n",
    "    except Exception as e:\n",
    "        print(e)\n",
    "        pass"
   ]
  },
  {
   "cell_type": "code",
   "execution_count": 12,
   "metadata": {},
   "outputs": [],
   "source": [
    "with open(\"../data/edges_neg_strategic_sampling_100k.csv\",\"w\",newline=\"\") as csvfile:\n",
    "    writer=csv.writer(csvfile)\n",
    "    writer.writerow([\"Source\",\"Target\", \"Label\"])\n",
    "    for edge in edges_neg:\n",
    "        writer.writerow([edge[0], edge[1], 0])"
   ]
  }
 ],
 "metadata": {
  "environment": {
   "name": "tf-gpu.1-15.m55",
   "type": "gcloud",
   "uri": "gcr.io/deeplearning-platform-release/tf-gpu.1-15:m55"
  },
  "kernelspec": {
   "display_name": "Python 3",
   "language": "python",
   "name": "python3"
  },
  "language_info": {
   "codemirror_mode": {
    "name": "ipython",
    "version": 3
   },
   "file_extension": ".py",
   "mimetype": "text/x-python",
   "name": "python",
   "nbconvert_exporter": "python",
   "pygments_lexer": "ipython3",
   "version": "3.11.2"
  }
 },
 "nbformat": 4,
 "nbformat_minor": 4
}
